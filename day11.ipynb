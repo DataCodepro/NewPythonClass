{
 "cells": [
  {
   "cell_type": "markdown",
   "id": "c16cbcd2",
   "metadata": {},
   "source": [
    "# The code below is designed for an admin to manage stock in the store but the problem at hand is that there are some  errors, you are requested by the team leader to help out to fix the erros the explation of the code is provided below\n",
    "### stock {}: Initializes an empty dictionary called stock to store the stock information.\n",
    "# FUNCTION ONE\n",
    "### def add_item(item_id, name, quantity):: Defines a function named add_item that takes three parameters - item_id, name, and quantity. This function is responsible for adding items to the stock.\n",
    "\n",
    "### Inside the add_item function:\n",
    "\n",
    "### if item_id not in stock Checks if the given item_id is not already present in the stock dictionary.\n",
    "### stock[item_id]  {'name': name, 'quantity': quantity}: If the item_id is not present, it adds a new entry to the stock dictionary with the item_id as the key and a dictionary containing the item's name and quantity.\n",
    "### print(f\"Item {name} added to stock with ID {item_id}\") Prints a message indicating that the item has been successfully added to the stock.\n",
    "### else If the item_id is already present in the stock, this block executes.\n",
    "\n",
    "### print(f\"Item with ID {item_id} already exists. Use update_item to modify.\"): Prints a message indicating that an item with the provided item_id already exists.\n",
    "# FUNCTION TWO\n",
    "### def search_item(item_id):: Defines a function named search_item that takes an item_id as a parameter. This function is responsible for searching and displaying information about a specific item in the stock.\n",
    "\n",
    "### Inside the search_item function:\n",
    "\n",
    "### if item_id in stock Checks if the given item_id is present in the stock dictionary.\n",
    "### item stock[item_id] Retrieves the dictionary associated with the given item_id.\n",
    "### print(f\"Item ID: {item_id}, Name: {item['name']}, Quantity: {item['quantity']}\"): Prints information about the item, including its ID, name, and quantity.\n",
    "### else If the item_id is not found in the stock, this block executes.\n",
    "\n",
    "### print(f\"Item with ID {item_id} not found in stock.\"): Prints a message indicating that the item with the provided item_id is not found.\n",
    "# FUNCTION THREE\n",
    "### def delete_item(item_id):: Defines a function named delete_item that takes an item_id as a parameter. This function is responsible for deleting an item from the stock.\n",
    "\n",
    "### Inside the delete_item function:\n",
    "\n",
    "### if item_id in stock Checks if the given item_id is present in the stock dictionary.\n",
    "### del stock[item_id] If the item_id is found, it removes the entry from the stock dictionary.\n",
    "### print(f\"Item with ID {item_id} deleted from stock.\"): Prints a message indicating that the item with the provided item_id has been successfully deleted.\n",
    "### else If the item_id is not found in the stock, this block executes.\n",
    "\n",
    "### print(f\"Item with ID {item_id} not found in stock.\"): Prints a message indicating that the item with the provided item_id is not found.\n",
    "# FUNCTION FOUR\n",
    "### def display_stock():: Defines a function named display_stock that takes no parameters. This function is responsible for displaying the current stock.\n",
    "\n",
    "### Inside the display_stock function:\n",
    "\n",
    "### print(\"\\nCurrent Stock:\") Prints a header indicating that the following information is about the current stock.\n",
    "### for item_id item in stock.items():: Iterates over the items in the stock dictionary.\n",
    "### print(f\"Item ID: {item_id}, Name: {item['name']}, Quantity: {item['quantity']}\"): Prints information about each item in the stock, including its ID, name, and quantity."
   ]
  },
  {
   "cell_type": "code",
   "execution_count": 34,
   "id": "3cd4aaeb",
   "metadata": {},
   "outputs": [],
   "source": [
    "stock = {}\n",
    "\n",
    "def add_item(item_id, name, quantity):\n",
    "    if item_id not in stock:\n",
    "        stock[item_id] = {'name': name, 'quantity': quantity}\n",
    "        print(f\"Item {name} added to stock with ID {item_id}\")\n",
    "    else:\n",
    "        print(f\"Item with ID {item_id} already exists. Use update_item to modify.\")\n",
    "\n",
    "def search_item(item_id):\n",
    "    if item_id in stock:\n",
    "        item = stock[item_id]\n",
    "        print(f\"Item ID: {item_id}, Name: {item['name']}, Quantity: {item['quantity']}\")\n",
    "    else:\n",
    "        print(f\"Item with ID {item_id} not found in stock.\")\n",
    "\n",
    "def delete_item(item_id):\n",
    "    if item_id in stock:\n",
    "        del(stock[item_id])\n",
    "        print(f\"Item with ID {item_id} deleted from stock.\")\n",
    "    else:\n",
    "        print(f\"Item with ID {item_id} not found in stock.\")\n",
    "\n",
    "def display_stock():\n",
    "    print(\"\\nCurrent Stock:\")\n",
    "    for item_id, item in stock.items():\n",
    "        print(f\"Item ID: {item_id}, Name: {item['name']}, Quantity: {item['quantity']}\")\n",
    "#def update_item(item_id,newvalue):\n",
    "    #for x in stock:\n",
    "        #if item_id == x:\n",
    "            #item_id['quantity'] = newvalue\n",
    "            #print(f\"Item ID updated successfully\")\n",
    "        #else:\n",
    "            #print(f\"Item with ID {item_id} not found in stock.\")\n",
    "\n"
   ]
  },
  {
   "cell_type": "code",
   "execution_count": 35,
   "id": "a889633c",
   "metadata": {},
   "outputs": [
    {
     "name": "stdout",
     "output_type": "stream",
     "text": [
      "Item Good Mama 50KG Rice added to stock with ID 101\n",
      "Item Golden Penny Spagetti added to stock with ID 102\n",
      "Item Good Mama 25KG Rice added to stock with ID 103\n",
      "Item Good Mama 10KG Rice added to stock with ID 104\n",
      "Item Dangote 5KG SUGAR added to stock with ID 105\n"
     ]
    }
   ],
   "source": [
    "add_item('101','Good Mama 50KG Rice',25)\n",
    "add_item('102','Golden Penny Spagetti',50)\n",
    "add_item('103','Good Mama 25KG Rice',100)\n",
    "add_item('104','Good Mama 10KG Rice',250)\n",
    "add_item('105','Dangote 5KG SUGAR',150)"
   ]
  },
  {
   "cell_type": "code",
   "execution_count": 36,
   "id": "a05c761e",
   "metadata": {},
   "outputs": [
    {
     "data": {
      "text/plain": [
       "{'101': {'name': 'Good Mama 50KG Rice', 'quantity': 25},\n",
       " '102': {'name': 'Golden Penny Spagetti', 'quantity': 50},\n",
       " '103': {'name': 'Good Mama 25KG Rice', 'quantity': 100},\n",
       " '104': {'name': 'Good Mama 10KG Rice', 'quantity': 250},\n",
       " '105': {'name': 'Dangote 5KG SUGAR', 'quantity': 150}}"
      ]
     },
     "execution_count": 36,
     "metadata": {},
     "output_type": "execute_result"
    }
   ],
   "source": [
    "stock"
   ]
  },
  {
   "cell_type": "code",
   "execution_count": 37,
   "id": "e4ee5542",
   "metadata": {},
   "outputs": [
    {
     "name": "stdout",
     "output_type": "stream",
     "text": [
      "Item ID: 103, Name: Good Mama 25KG Rice, Quantity: 100\n"
     ]
    }
   ],
   "source": [
    "search_item('103')"
   ]
  },
  {
   "cell_type": "code",
   "execution_count": 38,
   "id": "2f5c28c0",
   "metadata": {},
   "outputs": [
    {
     "name": "stdout",
     "output_type": "stream",
     "text": [
      "Item with ID 104 deleted from stock.\n"
     ]
    }
   ],
   "source": [
    "delete_item('104')"
   ]
  },
  {
   "cell_type": "code",
   "execution_count": 39,
   "id": "4a46df3e",
   "metadata": {},
   "outputs": [
    {
     "data": {
      "text/plain": [
       "{'101': {'name': 'Good Mama 50KG Rice', 'quantity': 25},\n",
       " '102': {'name': 'Golden Penny Spagetti', 'quantity': 50},\n",
       " '103': {'name': 'Good Mama 25KG Rice', 'quantity': 100},\n",
       " '105': {'name': 'Dangote 5KG SUGAR', 'quantity': 150}}"
      ]
     },
     "execution_count": 39,
     "metadata": {},
     "output_type": "execute_result"
    }
   ],
   "source": [
    "stock"
   ]
  },
  {
   "cell_type": "code",
   "execution_count": 40,
   "id": "f44708ec",
   "metadata": {},
   "outputs": [
    {
     "name": "stdout",
     "output_type": "stream",
     "text": [
      "\n",
      "Current Stock:\n",
      "Item ID: 101, Name: Good Mama 50KG Rice, Quantity: 25\n",
      "Item ID: 102, Name: Golden Penny Spagetti, Quantity: 50\n",
      "Item ID: 103, Name: Good Mama 25KG Rice, Quantity: 100\n",
      "Item ID: 105, Name: Dangote 5KG SUGAR, Quantity: 150\n"
     ]
    }
   ],
   "source": [
    "display_stock()"
   ]
  },
  {
   "cell_type": "code",
   "execution_count": 44,
   "id": "618f8b1a",
   "metadata": {},
   "outputs": [
    {
     "data": {
      "text/plain": [
       "130"
      ]
     },
     "execution_count": 44,
     "metadata": {},
     "output_type": "execute_result"
    }
   ],
   "source": [
    "# lambda function\n",
    "(lambda x,y:x +y)(78,52)"
   ]
  },
  {
   "cell_type": "code",
   "execution_count": 46,
   "id": "0f050202",
   "metadata": {},
   "outputs": [
    {
     "name": "stdout",
     "output_type": "stream",
     "text": [
      "enter your name:ADE\n"
     ]
    },
    {
     "data": {
      "text/plain": [
       "'ADE is in upper case'"
      ]
     },
     "execution_count": 46,
     "metadata": {},
     "output_type": "execute_result"
    }
   ],
   "source": [
    "# lambda function to check if a user's name is in upper case\n",
    "(lambda name:f'{name} is in upper case' if name == name.upper() else f'{name} not in upper case')(input('enter your name:')) "
   ]
  },
  {
   "cell_type": "code",
   "execution_count": 50,
   "id": "57d66086",
   "metadata": {},
   "outputs": [
    {
     "name": "stdout",
     "output_type": "stream",
     "text": [
      "['PYTHON', 'C++', 'JAVA', 'PHP', 'GO', 'RUBY', 'PERL', 'RUST', 'JULIA', 'COBOL']\n"
     ]
    }
   ],
   "source": [
    "# map: map is used for the modification of sequence like string, tuple and list where the lambda \n",
    "# function carries the operation and the final outcome is returned as a list or tuple\n",
    "language_name = ['python','c++','java','php','go', 'ruby','perl','rust','julia','cobol']\n",
    "finaloutcome = list(map(lambda x: x.upper(),language_name))\n",
    "print(finaloutcome)"
   ]
  },
  {
   "cell_type": "code",
   "execution_count": 52,
   "id": "c36bd4da",
   "metadata": {},
   "outputs": [
    {
     "name": "stdout",
     "output_type": "stream",
     "text": [
      "['RUBY', 'RUST']\n"
     ]
    }
   ],
   "source": [
    "# filter: filter is used for the selection in sequence like string, tuple and list where the lambda \n",
    "# function carries the operation and the final outcome is returned as a list or tuple\n",
    "finaloutcome2 = list(filter(lambda x: x.startswith('R'),finaloutcome))\n",
    "print(finaloutcome2)"
   ]
  },
  {
   "cell_type": "code",
   "execution_count": 54,
   "id": "652862f2",
   "metadata": {},
   "outputs": [],
   "source": [
    "# EXERCISE\n",
    "# from the sequence below find the even and odd numbers seprated in different list\n",
    "numbers = []\n",
    "import random\n",
    "for i in range(1,51):\n",
    "    num = random.randint(14,89)\n",
    "    numbers.append(num)"
   ]
  },
  {
   "cell_type": "code",
   "execution_count": 55,
   "id": "9c93d6ab",
   "metadata": {},
   "outputs": [
    {
     "name": "stdout",
     "output_type": "stream",
     "text": [
      "[41, 34, 63, 15, 49, 22, 37, 23, 85, 17, 78, 47, 29, 18, 47, 81, 52, 53, 50, 54, 70, 61, 35, 67, 60, 42, 38, 46, 33, 76, 55, 72, 46, 28, 32, 14, 21, 78, 36, 39, 71, 84, 61, 37, 53, 68, 62, 45, 15, 27]\n"
     ]
    }
   ],
   "source": [
    "print(numbers)"
   ]
  },
  {
   "cell_type": "code",
   "execution_count": 57,
   "id": "30dd6a6a",
   "metadata": {},
   "outputs": [
    {
     "name": "stdout",
     "output_type": "stream",
     "text": [
      "[34, 22, 78, 18, 52, 50, 54, 70, 60, 42, 38, 46, 76, 72, 46, 28, 32, 14, 78, 36, 84, 68, 62]\n"
     ]
    }
   ],
   "source": [
    "even = list(filter(lambda x: x% 2== 0,numbers))\n",
    "print(even)"
   ]
  },
  {
   "cell_type": "code",
   "execution_count": 58,
   "id": "e89a5844",
   "metadata": {},
   "outputs": [
    {
     "name": "stdout",
     "output_type": "stream",
     "text": [
      "[41, 63, 15, 49, 37, 23, 85, 17, 47, 29, 47, 81, 53, 61, 35, 67, 33, 55, 21, 39, 71, 61, 37, 53, 45, 15, 27]\n"
     ]
    }
   ],
   "source": [
    "odd = list(filter(lambda x: x% 2== 1,numbers))\n",
    "print(odd)"
   ]
  },
  {
   "cell_type": "code",
   "execution_count": null,
   "id": "943548c9",
   "metadata": {},
   "outputs": [],
   "source": []
  }
 ],
 "metadata": {
  "kernelspec": {
   "display_name": "Python 3 (ipykernel)",
   "language": "python",
   "name": "python3"
  },
  "language_info": {
   "codemirror_mode": {
    "name": "ipython",
    "version": 3
   },
   "file_extension": ".py",
   "mimetype": "text/x-python",
   "name": "python",
   "nbconvert_exporter": "python",
   "pygments_lexer": "ipython3",
   "version": "3.11.5"
  }
 },
 "nbformat": 4,
 "nbformat_minor": 5
}
