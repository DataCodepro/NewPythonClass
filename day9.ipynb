{
 "cells": [
  {
   "cell_type": "markdown",
   "id": "47b3615f",
   "metadata": {},
   "source": [
    "# Create a comprehensive building estimation calculator that involves considering various aspects such as land cost, material cost, labor cost, and other expenses."
   ]
  },
  {
   "cell_type": "code",
   "execution_count": 1,
   "id": "57397b59",
   "metadata": {},
   "outputs": [],
   "source": [
    "# error handling"
   ]
  },
  {
   "cell_type": "code",
   "execution_count": 2,
   "id": "6b1ab44d",
   "metadata": {},
   "outputs": [],
   "source": [
    "# try: test the block codes for any potential error\n",
    "# except: returns the kind of error encountered by the try block\n",
    "# else: else is dependent on the try block\n",
    "# finally:will always execute regardless of any expection or not"
   ]
  },
  {
   "cell_type": "code",
   "execution_count": 4,
   "id": "760073f3",
   "metadata": {},
   "outputs": [
    {
     "name": "stdout",
     "output_type": "stream",
     "text": [
      "Enter First Number:98\n",
      "Enter Second Number:5\n",
      "Choose operation option [+,-,*,/]:/\n",
      "98 / 5 = 19.6\n"
     ]
    }
   ],
   "source": [
    "try:\n",
    "    num1 = int(input('Enter First Number:'))\n",
    "    num2 = int(input('Enter Second Number:'))\n",
    "    option = input('Choose operation option [+,-,*,/]:')\n",
    "    if option == '+':\n",
    "        print(f'{num1}+ {num2} = {num1 + num2}')\n",
    "        \n",
    "    elif option == '-':\n",
    "        print(f'{num1} - {num2} = {num1 - num2}')\n",
    "        \n",
    "    elif option == '*':\n",
    "        print(f'{num1} * {num2} = {num1 * num2}')\n",
    "    elif option == '/':\n",
    "        print(f'{num1} / {num2} = {num1 / num2}')\n",
    "except:\n",
    "    print('You have encountered one or more errors')"
   ]
  },
  {
   "cell_type": "code",
   "execution_count": 8,
   "id": "155ce1a1",
   "metadata": {},
   "outputs": [
    {
     "name": "stdout",
     "output_type": "stream",
     "text": [
      "Enter First Number:45\n",
      "Enter Second Number:5\n",
      "Choose operation option [+,-,*,/]:*\n",
      "45 * 5 = 225\n",
      "184528125\n",
      "End of program......\n"
     ]
    }
   ],
   "source": [
    "try:\n",
    "    num1 = int(input('Enter First Number:'))\n",
    "    num2 = int(input('Enter Second Number:'))\n",
    "    option = input('Choose operation option [+,-,*,/]:')\n",
    "    if option == '+':\n",
    "        print(f'{num1}+ {num2} = {num1 + num2}')\n",
    "        \n",
    "    elif option == '-':\n",
    "        print(f'{num1} - {num2} = {num1 - num2}')\n",
    "        \n",
    "    elif option == '*':\n",
    "        print(f'{num1} * {num2} = {num1 * num2}')\n",
    "    elif option == '/':\n",
    "        print(f'{num1} / {num2} = {num1 / num2}')\n",
    "except ValueError:\n",
    "    print('Wrong value for first or second number only whole is expected.')\n",
    "except ZeroDivisionError:\n",
    "    print('Sorry you cannot divide a number by 0')\n",
    "except:\n",
    "    print('You have encountered one or more errors')\n",
    "else:\n",
    "    print(num1 ** num2)\n",
    "finally:\n",
    "    print('End of program......')"
   ]
  },
  {
   "cell_type": "code",
   "execution_count": 17,
   "id": "97794e07",
   "metadata": {},
   "outputs": [
    {
     "name": "stdout",
     "output_type": "stream",
     "text": [
      "WELCOME TO ALLWELL REAL ESTATE MANAGEMENT BUILDING ESTIMATION CALCULATOR\n",
      "Enter the cost of the land: N500000\n",
      "Enter the total area of the building (in per meter square):2500\n",
      "Enter the cost per meter sqr for the building:7000\n",
      "Enter the percentage of total cost for materials:45\n",
      "Enter the percentage of total cost for labor:38\n",
      "ESTIMATION RESULT\n",
      "Land Cost: N500000.00\n",
      "Construction Cost: N17500000.00\n",
      "Material Cost at (45.0): N7875000.00\n",
      "Labor Costat (38.0): N6650000.00\n",
      "Total Estimated Cost: N32525000.00\n"
     ]
    }
   ],
   "source": [
    "def building_estimation_calculator():\n",
    "    print('WELCOME TO ALLWELL REAL ESTATE MANAGEMENT BUILDING ESTIMATION CALCULATOR')\n",
    "    # GET INPUT FROM USER\n",
    "    try:\n",
    "        land_cost = float(input('Enter the cost of the land: N'))\n",
    "        building_area = float(input('Enter the total area of the building (in per meter square):'))\n",
    "        cost_per_meter_sqr = float(input('Enter the cost per meter sqr for the building:'))\n",
    "        material_cost_per = float(input('Enter the percentage of total cost for materials:'))\n",
    "        labor_cost_per = float(input('Enter the percentage of total cost for labor:'))\n",
    "    except ValueError:\n",
    "        print('Please Enter Valid Numerical Values.')\n",
    "    else:\n",
    "        const_cost = cost_per_meter_sqr * building_area\n",
    "        material_cost = (material_cost_per/100)*const_cost\n",
    "        labor_cost = (labor_cost_per/100)*const_cost\n",
    "        totalcost = land_cost + const_cost + material_cost+labor_cost\n",
    "       \n",
    "    finally:\n",
    "        print('ESTIMATION RESULT')\n",
    "        print(f'Land Cost: N{land_cost:.2f}')\n",
    "        print(f'Construction Cost: N{const_cost:.2f}')\n",
    "        print(f'Material Cost at ({material_cost_per}): N{material_cost:.2f}')\n",
    "        print(f'Labor Costat ({labor_cost_per}): N{labor_cost:.2f}')\n",
    "        print(f'Total Estimated Cost: N{totalcost:.2f}')\n",
    "building_estimation_calculator()"
   ]
  },
  {
   "cell_type": "code",
   "execution_count": 12,
   "id": "190caf8d",
   "metadata": {},
   "outputs": [
    {
     "data": {
      "text/plain": [
       "50000000"
      ]
     },
     "execution_count": 12,
     "metadata": {},
     "output_type": "execute_result"
    }
   ],
   "source": [
    "2500 *20000"
   ]
  },
  {
   "cell_type": "code",
   "execution_count": null,
   "id": "d994f439",
   "metadata": {},
   "outputs": [],
   "source": []
  }
 ],
 "metadata": {
  "kernelspec": {
   "display_name": "Python 3 (ipykernel)",
   "language": "python",
   "name": "python3"
  },
  "language_info": {
   "codemirror_mode": {
    "name": "ipython",
    "version": 3
   },
   "file_extension": ".py",
   "mimetype": "text/x-python",
   "name": "python",
   "nbconvert_exporter": "python",
   "pygments_lexer": "ipython3",
   "version": "3.11.5"
  }
 },
 "nbformat": 4,
 "nbformat_minor": 5
}
