{
 "cells": [
  {
   "cell_type": "markdown",
   "id": "e61ba375",
   "metadata": {},
   "source": [
    "### You have been employed as a developer at EarlyCode Store, and your task is to design a shipment cost calculation system for item shipments across six regions in Nigeria: South-South, South-East, South-West, North-Central, North-West, and North-East. The pricing criteria vary based on weight and condition (fragile or non-fragile). The pricing details for each region and condition are as follows:\n",
    "\n",
    "### South-South Region:\n",
    "\n",
    "### Fragile: Naira 10 per kilogram\n",
    "### Non-Fragile: Naira 8 per kilogram\n",
    "### South-East Region:\n",
    "\n",
    "### Fragile: Naira 12 per kilogram\n",
    "### Non-Fragile: Naira 9 per kilogram\n",
    "### South-West Region:\n",
    "\n",
    "### Fragile: Naira 11 per kilogram\n",
    "### Non-Fragile: Naira 7 per kilogram\n",
    "### North-Central Region:\n",
    "\n",
    "### Fragile: Naira 9 per kilogram\n",
    "### Non-Fragile: Naira 6 per kilogram\n",
    "### North-West Region:\n",
    "\n",
    "### Fragile: Naira 13 per kilogram\n",
    "### Non-Fragile: Naira 8.5 per kilogram\n",
    "### North-East Region:\n",
    "\n",
    "### Fragile: Naira 14 per kilogram\n",
    "### Non-Fragile: Naira 7.5 per kilogram\n",
    "### Your system should factor in the quantity of items being shipped to calculate the total shipment cost for each combination of region, weight, and condition. "
   ]
  },
  {
   "cell_type": "code",
   "execution_count": 1,
   "id": "70019dd5",
   "metadata": {},
   "outputs": [
    {
     "name": "stdout",
     "output_type": "stream",
     "text": [
      "['__doc__', '__loader__', '__name__', '__package__', '__spec__', 'acos', 'acosh', 'asin', 'asinh', 'atan', 'atan2', 'atanh', 'cbrt', 'ceil', 'comb', 'copysign', 'cos', 'cosh', 'degrees', 'dist', 'e', 'erf', 'erfc', 'exp', 'exp2', 'expm1', 'fabs', 'factorial', 'floor', 'fmod', 'frexp', 'fsum', 'gamma', 'gcd', 'hypot', 'inf', 'isclose', 'isfinite', 'isinf', 'isnan', 'isqrt', 'lcm', 'ldexp', 'lgamma', 'log', 'log10', 'log1p', 'log2', 'modf', 'nan', 'nextafter', 'perm', 'pi', 'pow', 'prod', 'radians', 'remainder', 'sin', 'sinh', 'sqrt', 'tan', 'tanh', 'tau', 'trunc', 'ulp']\n"
     ]
    }
   ],
   "source": [
    "import math\n",
    "print(dir(math))"
   ]
  },
  {
   "cell_type": "code",
   "execution_count": 3,
   "id": "051e87c4",
   "metadata": {},
   "outputs": [
    {
     "data": {
      "text/plain": [
       "'This module provides access to the mathematical functions\\ndefined by the C standard.'"
      ]
     },
     "execution_count": 3,
     "metadata": {},
     "output_type": "execute_result"
    }
   ],
   "source": [
    "math.__doc__"
   ]
  },
  {
   "cell_type": "code",
   "execution_count": 4,
   "id": "9ac32d84",
   "metadata": {},
   "outputs": [
    {
     "name": "stdout",
     "output_type": "stream",
     "text": [
      "14\n",
      "15\n",
      "-0.47312369706467594\n"
     ]
    }
   ],
   "source": [
    "number = 14.63\n",
    "print(math.floor(number))\n",
    "print(math.ceil(number))\n",
    "print(math.cos(number))"
   ]
  },
  {
   "cell_type": "code",
   "execution_count": 5,
   "id": "1ecc0b6b",
   "metadata": {},
   "outputs": [
    {
     "name": "stdout",
     "output_type": "stream",
     "text": [
      "['Counter', 'Decimal', 'Fraction', 'LinearRegression', 'NormalDist', 'StatisticsError', '_SQRT2', '__all__', '__annotations__', '__builtins__', '__cached__', '__doc__', '__file__', '__loader__', '__name__', '__package__', '__spec__', '_coerce', '_convert', '_decimal_sqrt_of_frac', '_exact_ratio', '_fail_neg', '_float_sqrt_of_frac', '_integer_sqrt_of_frac_rto', '_isfinite', '_mean_stdev', '_normal_dist_inv_cdf', '_sqrt_bit_width', '_ss', '_sum', 'bisect_left', 'bisect_right', 'correlation', 'covariance', 'defaultdict', 'erf', 'exp', 'fabs', 'fmean', 'fsum', 'geometric_mean', 'groupby', 'harmonic_mean', 'hypot', 'linear_regression', 'log', 'math', 'mean', 'median', 'median_grouped', 'median_high', 'median_low', 'mode', 'mul', 'multimode', 'namedtuple', 'numbers', 'pstdev', 'pvariance', 'quantiles', 'random', 'reduce', 'repeat', 'sqrt', 'stdev', 'sys', 'tau', 'variance']\n"
     ]
    }
   ],
   "source": [
    "import statistics as stat\n",
    "print(dir(stat))"
   ]
  },
  {
   "cell_type": "code",
   "execution_count": 6,
   "id": "c885be20",
   "metadata": {},
   "outputs": [
    {
     "name": "stdout",
     "output_type": "stream",
     "text": [
      "81.33333333333333\n"
     ]
    }
   ],
   "source": [
    "score = [87,98,56,92,70,85]\n",
    "print(stat.mean(score))"
   ]
  },
  {
   "cell_type": "code",
   "execution_count": 7,
   "id": "8e97568e",
   "metadata": {},
   "outputs": [
    {
     "name": "stdout",
     "output_type": "stream",
     "text": [
      "['BPF', 'LOG4', 'NV_MAGICCONST', 'RECIP_BPF', 'Random', 'SG_MAGICCONST', 'SystemRandom', 'TWOPI', '_ONE', '_Sequence', '_Set', '__all__', '__builtins__', '__cached__', '__doc__', '__file__', '__loader__', '__name__', '__package__', '__spec__', '_accumulate', '_acos', '_bisect', '_ceil', '_cos', '_e', '_exp', '_floor', '_index', '_inst', '_isfinite', '_log', '_os', '_pi', '_random', '_repeat', '_sha512', '_sin', '_sqrt', '_test', '_test_generator', '_urandom', '_warn', 'betavariate', 'choice', 'choices', 'expovariate', 'gammavariate', 'gauss', 'getrandbits', 'getstate', 'lognormvariate', 'normalvariate', 'paretovariate', 'randbytes', 'randint', 'random', 'randrange', 'sample', 'seed', 'setstate', 'shuffle', 'triangular', 'uniform', 'vonmisesvariate', 'weibullvariate']\n"
     ]
    }
   ],
   "source": [
    "import random as rn\n",
    "print(dir(rn))"
   ]
  },
  {
   "cell_type": "code",
   "execution_count": 8,
   "id": "3a59b5f9",
   "metadata": {},
   "outputs": [],
   "source": [
    "# string, re, datetime"
   ]
  },
  {
   "cell_type": "code",
   "execution_count": 10,
   "id": "f99be647",
   "metadata": {},
   "outputs": [
    {
     "name": "stdout",
     "output_type": "stream",
     "text": [
      "Your total price is 5000.0\n"
     ]
    }
   ],
   "source": [
    "chickenKG = float(input('Please enter chicken weight in KG:'))\n",
    "perkgprice = 2000\n",
    "if  chickenKG >= 1:\n",
    "    print(f'Your total price is {chickenKG * perkgprice}')\n",
    "#Note About the if condition:\" for the if only condition the expression is returned only if the preset condition is true and no outcome if the preset condition is false\""
   ]
  },
  {
   "cell_type": "code",
   "execution_count": 11,
   "id": "4fb6274a",
   "metadata": {},
   "outputs": [
    {
     "name": "stdout",
     "output_type": "stream",
     "text": [
      "You are free to go the chicken kg is not a chargeable amount.\n"
     ]
    }
   ],
   "source": [
    "chickenKG = float(input('Please enter chicken weight in KG:'))\n",
    "perkgprice = 2000\n",
    "if  chickenKG >= 1:\n",
    "    print(f'Your total price is {chickenKG * perkgprice}')\n",
    "else:\n",
    "    print('You are free to go the chicken kg is not a chargeable amount.')\n",
    "#Note About the if else condition:\" for the if else condition the expression is returned  if the if  preset condition is true and the expression uder the else is returned if the condition is false\""
   ]
  },
  {
   "cell_type": "code",
   "execution_count": 14,
   "id": "0937fa4b",
   "metadata": {},
   "outputs": [
    {
     "name": "stdout",
     "output_type": "stream",
     "text": [
      "Item Quantity: 8.0\n",
      "Item Cost: 80000.0\n",
      "Shipping Fee: 400.0\n",
      "Total Cost plus shipment is 80400.0\n"
     ]
    }
   ],
   "source": [
    "region = input('Shipment Region:')\n",
    "weight = float(input('Item Weight in KG:'))\n",
    "codition = input('Item Condition:')\n",
    "quantity = float(input('Item Quantity:'))\n",
    "costperitem = float(input('Enter item cost:'))\n",
    "if region == 'South South' and codition == 'Fragile':\n",
    "    print(f'''Item Quantity: {quantity}\n",
    "Item Cost: {quantity *costperitem}\n",
    "Shipping Fee: {(weight * 10 * quantity)}\n",
    "Total Cost plus shipment is {(weight * 10 * quantity) +(quantity *costperitem)}''')\n",
    "elif region == 'South South' and codition == 'Non-Fragile':\n",
    "    print(f'Total Cost plus shipment is {(weight * 8 * quantity) +(quantity *costperitem)}')\n",
    "elif region == 'South East' and codition == 'Non-Fragile':\n",
    "    print(f'Total Cost plus shipment is {(weight * 9 * quantity) +(quantity *costperitem)} ')\n",
    "elif region == 'South East' and codition == 'Fragile':\n",
    "    print(f'Total Cost plus shipment is {(weight * 12 * quantity) +(quantity *costperitem)} ')"
   ]
  }
 ],
 "metadata": {
  "kernelspec": {
   "display_name": "Python 3 (ipykernel)",
   "language": "python",
   "name": "python3"
  },
  "language_info": {
   "codemirror_mode": {
    "name": "ipython",
    "version": 3
   },
   "file_extension": ".py",
   "mimetype": "text/x-python",
   "name": "python",
   "nbconvert_exporter": "python",
   "pygments_lexer": "ipython3",
   "version": "3.11.1"
  }
 },
 "nbformat": 4,
 "nbformat_minor": 5
}
