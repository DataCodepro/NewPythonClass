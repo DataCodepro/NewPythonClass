{
 "cells": [
  {
   "cell_type": "markdown",
   "id": "da1ae40b-a528-411c-9369-7a70d95cf7cb",
   "metadata": {},
   "source": [
    "# You have just been employed as a programer at earlycode academy the first batch of python with data science just round up all there all classes and exam and the score is broken down into 4 part python Assignment, python exams, data science Assignment and data science exams. you are required to write a program using a function to display a student score provided the student is a registered student in our system\n",
    "# note use dictonary for the record\n",
    "# also the records should consist of 7 student"
   ]
  },
  {
   "cell_type": "code",
   "execution_count": 4,
   "id": "d68e61c1-b60f-4d21-8b6d-ae6fce295dd4",
   "metadata": {
    "tags": []
   },
   "outputs": [
    {
     "name": "stdin",
     "output_type": "stream",
     "text": [
      "Enter your registration ID to check your result. EAR005\n"
     ]
    },
    {
     "name": "stdout",
     "output_type": "stream",
     "text": [
      "_________________STUDENT FINAL REPORT__________________\n",
      "Name: Faith Okoro\n",
      "Gender: Female\n",
      "Python Assignment: 78\n",
      "Python Exams: 99\n",
      "Data Science Assignment: 90\n",
      "Data Science Exams: 95\n",
      "Over All Score: 90.5\n"
     ]
    }
   ],
   "source": [
    "def student_score_portal():\n",
    "    student_score_table = {\n",
    "        'EAR001':{'Name':'Eniola Ojo','Gender':'Female','PythonAssScore':78,\n",
    "                  'PythonExam':85,'DataScienceAss':90,'DataScienceExam':95},\n",
    "        'EAR002':{'Name':'Henry Bob','Gender':'Male','PythonAssScore':65,\n",
    "                  'PythonExam':70,'DataScienceAss':67,'DataScienceExam':92},\n",
    "        'EAR003':{'Name':'Samuel Akpan','Gender':'Male','PythonAssScore':95,\n",
    "                  'PythonExam':92,'DataScienceAss':90,'DataScienceExam':92},\n",
    "        'EAR004':{'Name':'James Ford','Gender':'Male','PythonAssScore':88,\n",
    "                  'PythonExam':100,'DataScienceAss':78,'DataScienceExam':95},\n",
    "        'EAR005':{'Name':'Faith Okoro','Gender':'Female','PythonAssScore':78,\n",
    "                  'PythonExam':99,'DataScienceAss':90,'DataScienceExam':95},\n",
    "        'EAR006':{'Name':'Job Uju','Gender':'MAle','PythonAssScore':88,\n",
    "                  'PythonExam':90,'DataScienceAss':95,'DataScienceExam':88},\n",
    "        'EAR007':{'Name':'Jennifer Tofunny','Gender':'Female','PythonAssScore':90,\n",
    "                  'PythonExam':90,'DataScienceAss':99,'DataScienceExam':94},\n",
    "    }\n",
    "    reg_id = input('Enter your registration ID to check your result.')\n",
    "    for key in student_score_table:\n",
    "        if reg_id == key:\n",
    "            print('_________________STUDENT FINAL REPORT__________________')\n",
    "            print('Name:', student_score_table[key]['Name'])\n",
    "            print('Gender:', student_score_table[key]['Gender'])\n",
    "            print('Python Assignment:', student_score_table[key]['PythonAssScore'])\n",
    "            print('Python Exams:', student_score_table[key]['PythonExam'])\n",
    "            print('Data Science Assignment:', student_score_table[key]['DataScienceAss'])\n",
    "            print('Data Science Exams:', student_score_table[key]['DataScienceExam'])\n",
    "            Average_score = (student_score_table[key]['PythonAssScore'] +student_score_table[key]['PythonExam']+\n",
    "                             student_score_table[key]['DataScienceAss']+student_score_table[key]['DataScienceExam'])/4\n",
    "            print('Over All Score:', Average_score)\n",
    "            break\n",
    "    else:\n",
    "        print('ID not a registered Student')\n",
    "student_score_portal()\n"
   ]
  },
  {
   "cell_type": "code",
   "execution_count": 6,
   "id": "dd70e9e5-d641-4a9c-9a52-fe6658ebaf50",
   "metadata": {
    "tags": []
   },
   "outputs": [
    {
     "name": "stdout",
     "output_type": "stream",
     "text": [
      "50.666666666666664\n"
     ]
    }
   ],
   "source": [
    "def average(*numbers):\n",
    "    avg = sum(numbers)/len(numbers)\n",
    "    print(avg)\n",
    "average(14,52,36,39,38,88,56,98,35)"
   ]
  },
  {
   "cell_type": "code",
   "execution_count": 7,
   "id": "8e8ff698-fb8e-48f3-98e5-5fb4376b335e",
   "metadata": {
    "tags": []
   },
   "outputs": [
    {
     "name": "stdout",
     "output_type": "stream",
     "text": [
      "['__builtins__', '__cached__', '__doc__', '__file__', '__loader__', '__name__', '__package__', '__spec__', 'average']\n"
     ]
    }
   ],
   "source": [
    "import mymodule\n",
    "print(dir(mymodule))"
   ]
  },
  {
   "cell_type": "code",
   "execution_count": 8,
   "id": "eec7f2fe-54fb-4f75-aa8b-db04db1065b9",
   "metadata": {
    "tags": []
   },
   "outputs": [
    {
     "name": "stdout",
     "output_type": "stream",
     "text": [
      "79.5\n"
     ]
    }
   ],
   "source": [
    "mymodule.average(74,85)"
   ]
  },
  {
   "cell_type": "code",
   "execution_count": 10,
   "id": "82db825f-60a0-4088-a016-48608943e970",
   "metadata": {
    "tags": []
   },
   "outputs": [
    {
     "name": "stdout",
     "output_type": "stream",
     "text": [
      "Name : Ade\n"
     ]
    }
   ],
   "source": [
    "def records(**details):\n",
    "    for key,value in details.items():\n",
    "        print(key, ':',value)\n",
    "records(Name ='Ade')"
   ]
  },
  {
   "cell_type": "code",
   "execution_count": null,
   "id": "7079c7eb-b4dd-42d6-be37-7aa4630da4b3",
   "metadata": {},
   "outputs": [],
   "source": [
    "# class\n",
    "# object\n",
    "# atrribute\n",
    "# method\n",
    "# __init__\n",
    "# self"
   ]
  }
 ],
 "metadata": {
  "kernelspec": {
   "display_name": "Python 3 (ipykernel)",
   "language": "python",
   "name": "python3"
  },
  "language_info": {
   "codemirror_mode": {
    "name": "ipython",
    "version": 3
   },
   "file_extension": ".py",
   "mimetype": "text/x-python",
   "name": "python",
   "nbconvert_exporter": "python",
   "pygments_lexer": "ipython3",
   "version": "3.11.5"
  }
 },
 "nbformat": 4,
 "nbformat_minor": 5
}
