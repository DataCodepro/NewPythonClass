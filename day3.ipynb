{
 "cells": [
  {
   "cell_type": "code",
   "execution_count": 1,
   "id": "71f9177a",
   "metadata": {},
   "outputs": [],
   "source": [
    "# Tuple\n",
    "# Tuple is unchangeable\n",
    "# Tuple must be ordered\n",
    "# tuple is denoted with ()"
   ]
  },
  {
   "cell_type": "code",
   "execution_count": 2,
   "id": "a9937b14",
   "metadata": {},
   "outputs": [],
   "source": [
    "numbers = (14,15,65,60,23,25,85,60,45,48,47,60)"
   ]
  },
  {
   "cell_type": "code",
   "execution_count": 3,
   "id": "52f4ad45",
   "metadata": {},
   "outputs": [
    {
     "name": "stdout",
     "output_type": "stream",
     "text": [
      "<class 'tuple'>\n"
     ]
    }
   ],
   "source": [
    "print(type(numbers))"
   ]
  },
  {
   "cell_type": "code",
   "execution_count": 4,
   "id": "d9e11c21",
   "metadata": {},
   "outputs": [
    {
     "name": "stdout",
     "output_type": "stream",
     "text": [
      "12\n"
     ]
    }
   ],
   "source": [
    "print(len(numbers))"
   ]
  },
  {
   "cell_type": "code",
   "execution_count": 5,
   "id": "30d956da",
   "metadata": {},
   "outputs": [
    {
     "name": "stdout",
     "output_type": "stream",
     "text": [
      "25\n"
     ]
    }
   ],
   "source": [
    "print(numbers[5])"
   ]
  },
  {
   "cell_type": "code",
   "execution_count": 6,
   "id": "5ac10408",
   "metadata": {},
   "outputs": [
    {
     "name": "stdout",
     "output_type": "stream",
     "text": [
      "25\n"
     ]
    }
   ],
   "source": [
    "print(numbers[-7])"
   ]
  },
  {
   "cell_type": "code",
   "execution_count": 8,
   "id": "79001c36",
   "metadata": {},
   "outputs": [
    {
     "name": "stdout",
     "output_type": "stream",
     "text": [
      "(65, 60, 23, 25, 85)\n"
     ]
    }
   ],
   "source": [
    "print(numbers[2:7])"
   ]
  },
  {
   "cell_type": "code",
   "execution_count": 9,
   "id": "5a5e9baf",
   "metadata": {},
   "outputs": [
    {
     "name": "stdout",
     "output_type": "stream",
     "text": [
      "False\n"
     ]
    }
   ],
   "source": [
    "print(100 in numbers)"
   ]
  },
  {
   "cell_type": "code",
   "execution_count": 10,
   "id": "c41ab657",
   "metadata": {},
   "outputs": [
    {
     "name": "stdout",
     "output_type": "stream",
     "text": [
      "3\n"
     ]
    }
   ],
   "source": [
    "print(numbers.count(60))"
   ]
  },
  {
   "cell_type": "code",
   "execution_count": 11,
   "id": "b5cb0037",
   "metadata": {},
   "outputs": [
    {
     "name": "stdout",
     "output_type": "stream",
     "text": [
      "6\n"
     ]
    }
   ],
   "source": [
    "print(numbers.index(85))"
   ]
  },
  {
   "cell_type": "code",
   "execution_count": 17,
   "id": "43a36ec2",
   "metadata": {},
   "outputs": [],
   "source": [
    "shopA = ['Apple','Bucket','Strawberry','Lemon','Banana']"
   ]
  },
  {
   "cell_type": "code",
   "execution_count": 18,
   "id": "6686424c",
   "metadata": {},
   "outputs": [
    {
     "name": "stdout",
     "output_type": "stream",
     "text": [
      "['Apple', 'Bucket', 'Strawberry', 'Lemon', 'Banana', 'Pear']\n"
     ]
    }
   ],
   "source": [
    "shopA.append('Pear')\n",
    "print(shopA)"
   ]
  },
  {
   "cell_type": "code",
   "execution_count": 19,
   "id": "06bd37e6",
   "metadata": {},
   "outputs": [
    {
     "name": "stdout",
     "output_type": "stream",
     "text": [
      "['Apple', 'Bucket', 'Pen', 'Strawberry', 'Lemon', 'Banana', 'Pear']\n"
     ]
    }
   ],
   "source": [
    "shopA.insert(2, 'Pen')\n",
    "print(shopA)"
   ]
  },
  {
   "cell_type": "code",
   "execution_count": 20,
   "id": "46ef892b",
   "metadata": {},
   "outputs": [
    {
     "name": "stdout",
     "output_type": "stream",
     "text": [
      "['Apple', 'Bucket', 'Pen', 'Strawberry', 'Lemon', 'Banana', 'Pear', 'Banana', 'Pear', 'Orange']\n"
     ]
    }
   ],
   "source": [
    "shopB = ['Banana','Pear','Orange']\n",
    "shopA.extend(shopB)\n",
    "print(shopA)"
   ]
  },
  {
   "cell_type": "code",
   "execution_count": 21,
   "id": "712ec9d4",
   "metadata": {},
   "outputs": [
    {
     "name": "stdout",
     "output_type": "stream",
     "text": [
      "['Apple', 'Bucket', 'Pen', 'Lemon', 'Banana', 'Pear', 'Banana', 'Pear', 'Orange']\n"
     ]
    }
   ],
   "source": [
    "shopA.pop(3)\n",
    "print(shopA)"
   ]
  },
  {
   "cell_type": "code",
   "execution_count": 22,
   "id": "d1a1d31e",
   "metadata": {},
   "outputs": [
    {
     "name": "stdout",
     "output_type": "stream",
     "text": [
      "['Apple', 'Bucket', 'Pen', 'Lemon', 'Pear', 'Banana', 'Pear', 'Orange']\n"
     ]
    }
   ],
   "source": [
    "shopA.remove('Banana')\n",
    "print(shopA)"
   ]
  },
  {
   "cell_type": "code",
   "execution_count": 23,
   "id": "bec93ae6",
   "metadata": {},
   "outputs": [
    {
     "name": "stdout",
     "output_type": "stream",
     "text": [
      "['Apple', 'Banana', 'Bucket', 'Lemon', 'Orange', 'Pear', 'Pear', 'Pen']\n"
     ]
    }
   ],
   "source": [
    "shopA.sort()\n",
    "print(shopA)"
   ]
  },
  {
   "cell_type": "code",
   "execution_count": 24,
   "id": "2f0ce98d",
   "metadata": {},
   "outputs": [
    {
     "name": "stdout",
     "output_type": "stream",
     "text": [
      "['Pen', 'Pear', 'Pear', 'Orange', 'Lemon', 'Bucket', 'Banana', 'Apple']\n"
     ]
    }
   ],
   "source": [
    "shopA.reverse()\n",
    "print(shopA)"
   ]
  },
  {
   "cell_type": "code",
   "execution_count": 25,
   "id": "7cdd34c1",
   "metadata": {},
   "outputs": [
    {
     "name": "stdout",
     "output_type": "stream",
     "text": [
      "['Pen', 'Pear', 'Pear', 'Orange', 'Lemon', 'Bucket', 'Banana', 'Apple']\n"
     ]
    }
   ],
   "source": [
    "shopC = shopA.copy()\n",
    "print(shopC)"
   ]
  },
  {
   "cell_type": "code",
   "execution_count": 26,
   "id": "de164468",
   "metadata": {},
   "outputs": [
    {
     "name": "stdout",
     "output_type": "stream",
     "text": [
      "[]\n"
     ]
    }
   ],
   "source": [
    "shopC.clear()\n",
    "print(shopC)"
   ]
  },
  {
   "cell_type": "code",
   "execution_count": 27,
   "id": "8b3e3f1a",
   "metadata": {},
   "outputs": [
    {
     "ename": "NameError",
     "evalue": "name 'shopC' is not defined",
     "output_type": "error",
     "traceback": [
      "\u001b[1;31m---------------------------------------------------------------------------\u001b[0m",
      "\u001b[1;31mNameError\u001b[0m                                 Traceback (most recent call last)",
      "Cell \u001b[1;32mIn[27], line 2\u001b[0m\n\u001b[0;32m      1\u001b[0m \u001b[38;5;28;01mdel\u001b[39;00m(shopC)\n\u001b[1;32m----> 2\u001b[0m \u001b[38;5;28mprint\u001b[39m(shopC)\n",
      "\u001b[1;31mNameError\u001b[0m: name 'shopC' is not defined"
     ]
    }
   ],
   "source": [
    "del(shopC)\n",
    "print(shopC)"
   ]
  },
  {
   "cell_type": "code",
   "execution_count": 28,
   "id": "ab4aa096",
   "metadata": {},
   "outputs": [
    {
     "name": "stdout",
     "output_type": "stream",
     "text": [
      "1.56\n"
     ]
    }
   ],
   "source": [
    "records = {\n",
    "    'Name':'Fatima',\n",
    "    'Age':45,\n",
    "    'Gender':'Female',\n",
    "    'Height': 1.56,\n",
    "    'Weight':60.5\n",
    "}\n",
    "print(records['Height'])"
   ]
  },
  {
   "cell_type": "code",
   "execution_count": 29,
   "id": "4fee0cd3",
   "metadata": {},
   "outputs": [
    {
     "name": "stdout",
     "output_type": "stream",
     "text": [
      "{'Name': 'Fatima', 'Age': 45, 'Gender': 'Female', 'Height': 1.56, 'Weight': 60.5, 'Address': 'No 25 Highway Street'}\n"
     ]
    }
   ],
   "source": [
    "records['Address'] = 'No 25 Highway Street'\n",
    "print(records)"
   ]
  },
  {
   "cell_type": "code",
   "execution_count": 30,
   "id": "5a4bc045",
   "metadata": {},
   "outputs": [
    {
     "name": "stdout",
     "output_type": "stream",
     "text": [
      "{'Name': 'Fatima', 'Age': 45, 'Gender': 'Female', 'Height': 1.65, 'Weight': 60.5, 'Address': 'No 25 Highway Street'}\n"
     ]
    }
   ],
   "source": [
    "records['Height'] = 1.65\n",
    "print(records)"
   ]
  },
  {
   "cell_type": "code",
   "execution_count": 31,
   "id": "d7a6ea68",
   "metadata": {},
   "outputs": [
    {
     "name": "stdout",
     "output_type": "stream",
     "text": [
      "{'Name': 'Fatima', 'Age': 45, 'Gender': 'Female', 'Height': 1.66, 'Weight': 60.5, 'Address': 'No 25 Highway Street'}\n"
     ]
    }
   ],
   "source": [
    "newval = {'Height':1.66}\n",
    "records.update(newval)\n",
    "print(records)"
   ]
  },
  {
   "cell_type": "code",
   "execution_count": 32,
   "id": "119fb92e",
   "metadata": {},
   "outputs": [
    {
     "name": "stdout",
     "output_type": "stream",
     "text": [
      "{'Name': 'Fatima', 'Age': 45, 'Gender': 'Female', 'Height': 1.66, 'Weight': 60.5}\n"
     ]
    }
   ],
   "source": [
    "records.popitem()\n",
    "print(records)"
   ]
  },
  {
   "cell_type": "code",
   "execution_count": 33,
   "id": "5b61b46f",
   "metadata": {},
   "outputs": [
    {
     "name": "stdout",
     "output_type": "stream",
     "text": [
      "{'Name': 'Fatima', 'Gender': 'Female', 'Height': 1.66, 'Weight': 60.5}\n"
     ]
    }
   ],
   "source": [
    "records.pop('Age')\n",
    "print(records)"
   ]
  },
  {
   "cell_type": "code",
   "execution_count": 35,
   "id": "ba805877",
   "metadata": {},
   "outputs": [
    {
     "name": "stdout",
     "output_type": "stream",
     "text": [
      "dict_keys(['Name', 'Gender', 'Height', 'Weight'])\n"
     ]
    }
   ],
   "source": [
    "print(records.keys())"
   ]
  },
  {
   "cell_type": "code",
   "execution_count": 36,
   "id": "3ce1a6d2",
   "metadata": {},
   "outputs": [
    {
     "name": "stdout",
     "output_type": "stream",
     "text": [
      "dict_values(['Fatima', 'Female', 1.66, 60.5])\n"
     ]
    }
   ],
   "source": [
    "print(records.values())"
   ]
  },
  {
   "cell_type": "code",
   "execution_count": 37,
   "id": "69ac69c0",
   "metadata": {},
   "outputs": [
    {
     "name": "stdout",
     "output_type": "stream",
     "text": [
      "dict_items([('Name', 'Fatima'), ('Gender', 'Female'), ('Height', 1.66), ('Weight', 60.5)])\n"
     ]
    }
   ],
   "source": [
    "print(records.items())"
   ]
  },
  {
   "cell_type": "code",
   "execution_count": 38,
   "id": "dcb0a202",
   "metadata": {},
   "outputs": [
    {
     "name": "stdout",
     "output_type": "stream",
     "text": [
      "Bisi\n"
     ]
    }
   ],
   "source": [
    "records = {\n",
    "    'Name':['Ade','Bisi','James'],\n",
    "    \n",
    "}\n",
    "print(records['Name'][1])"
   ]
  },
  {
   "cell_type": "code",
   "execution_count": null,
   "id": "e7a2802d",
   "metadata": {},
   "outputs": [],
   "source": []
  }
 ],
 "metadata": {
  "kernelspec": {
   "display_name": "Python 3 (ipykernel)",
   "language": "python",
   "name": "python3"
  },
  "language_info": {
   "codemirror_mode": {
    "name": "ipython",
    "version": 3
   },
   "file_extension": ".py",
   "mimetype": "text/x-python",
   "name": "python",
   "nbconvert_exporter": "python",
   "pygments_lexer": "ipython3",
   "version": "3.11.5"
  }
 },
 "nbformat": 4,
 "nbformat_minor": 5
}
