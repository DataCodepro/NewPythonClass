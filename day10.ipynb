{
 "cells": [
  {
   "cell_type": "code",
   "execution_count": 1,
   "id": "9c0fde73",
   "metadata": {},
   "outputs": [
    {
     "name": "stdout",
     "output_type": "stream",
     "text": [
      "['MAXYEAR', 'MINYEAR', 'UTC', '__all__', '__builtins__', '__cached__', '__doc__', '__file__', '__loader__', '__name__', '__package__', '__spec__', 'date', 'datetime', 'datetime_CAPI', 'sys', 'time', 'timedelta', 'timezone', 'tzinfo']\n"
     ]
    }
   ],
   "source": [
    "import datetime\n",
    "print(dir(datetime))"
   ]
  },
  {
   "cell_type": "code",
   "execution_count": 2,
   "id": "94075a05",
   "metadata": {},
   "outputs": [
    {
     "data": {
      "text/plain": [
       "datetime.date(2023, 11, 25)"
      ]
     },
     "execution_count": 2,
     "metadata": {},
     "output_type": "execute_result"
    }
   ],
   "source": [
    "date1  = datetime.date(2023,11,25)\n",
    "date1"
   ]
  },
  {
   "cell_type": "code",
   "execution_count": 4,
   "id": "57402085",
   "metadata": {},
   "outputs": [
    {
     "name": "stdout",
     "output_type": "stream",
     "text": [
      "2023\n",
      "11\n",
      "25\n",
      "5\n",
      "6\n"
     ]
    }
   ],
   "source": [
    "print(date1.year)\n",
    "print(date1.month)\n",
    "print(date1.day)\n",
    "print(date1.weekday())\n",
    "print(date1.isoweekday())"
   ]
  },
  {
   "cell_type": "code",
   "execution_count": 5,
   "id": "6a9b26cb",
   "metadata": {},
   "outputs": [
    {
     "data": {
      "text/plain": [
       "datetime.date(2024, 1, 30)"
      ]
     },
     "execution_count": 5,
     "metadata": {},
     "output_type": "execute_result"
    }
   ],
   "source": [
    "#strftime: this is used for the modification of date and time formatted in a string\n",
    "currentdate = datetime.date.today()\n",
    "currentdate"
   ]
  },
  {
   "cell_type": "code",
   "execution_count": 8,
   "id": "e4c69a20",
   "metadata": {},
   "outputs": [
    {
     "name": "stdout",
     "output_type": "stream",
     "text": [
      "Tuesday\n",
      "Tue\n",
      "January\n",
      "Jan\n",
      "2024\n",
      "24\n",
      "01\n",
      "30\n"
     ]
    }
   ],
   "source": [
    "print(currentdate.strftime('%A'))\n",
    "print(currentdate.strftime('%a'))\n",
    "print(currentdate.strftime('%B'))\n",
    "print(currentdate.strftime('%b'))\n",
    "print(currentdate.strftime('%Y'))\n",
    "print(currentdate.strftime('%y'))\n",
    "print(currentdate.strftime('%m'))\n",
    "print(currentdate.strftime('%d'))"
   ]
  },
  {
   "cell_type": "code",
   "execution_count": 10,
   "id": "be1a4d54",
   "metadata": {},
   "outputs": [
    {
     "name": "stdout",
     "output_type": "stream",
     "text": [
      "30th of January, 2024\n"
     ]
    }
   ],
   "source": [
    "# format the current date in this format 30th of January, 2024\n",
    "print(currentdate.strftime('%dth of %B, %Y'))"
   ]
  },
  {
   "cell_type": "code",
   "execution_count": 11,
   "id": "cdc2b8bd",
   "metadata": {},
   "outputs": [
    {
     "data": {
      "text/plain": [
       "datetime.time(12, 45, 45, 123658)"
      ]
     },
     "execution_count": 11,
     "metadata": {},
     "output_type": "execute_result"
    }
   ],
   "source": [
    "time1 = datetime.time(12,45,45,123658)\n",
    "time1"
   ]
  },
  {
   "cell_type": "code",
   "execution_count": 12,
   "id": "754b400d",
   "metadata": {},
   "outputs": [
    {
     "name": "stdout",
     "output_type": "stream",
     "text": [
      "12\n",
      "45\n",
      "45\n",
      "123658\n"
     ]
    }
   ],
   "source": [
    "print(time1.hour)\n",
    "print(time1.minute)\n",
    "print(time1.second)\n",
    "print(time1.microsecond)"
   ]
  },
  {
   "cell_type": "code",
   "execution_count": 13,
   "id": "24754d56",
   "metadata": {},
   "outputs": [],
   "source": [
    "currenttime = datetime.datetime.now().time()"
   ]
  },
  {
   "cell_type": "code",
   "execution_count": 14,
   "id": "315fcd71",
   "metadata": {},
   "outputs": [
    {
     "name": "stdout",
     "output_type": "stream",
     "text": [
      "16\n",
      "04\n",
      "50\n",
      "20\n",
      "692829\n",
      "PM\n"
     ]
    }
   ],
   "source": [
    "print(currenttime.strftime('%H'))\n",
    "print(currenttime.strftime('%I'))\n",
    "print(currenttime.strftime('%M'))\n",
    "print(currenttime.strftime('%S'))\n",
    "print(currenttime.strftime('%f'))\n",
    "print(currenttime.strftime('%p'))\n"
   ]
  },
  {
   "cell_type": "code",
   "execution_count": 15,
   "id": "2bfe55b0",
   "metadata": {},
   "outputs": [
    {
     "data": {
      "text/plain": [
       "datetime.datetime(2024, 1, 30, 16, 56, 44, 194456)"
      ]
     },
     "execution_count": 15,
     "metadata": {},
     "output_type": "execute_result"
    }
   ],
   "source": [
    "current_date_time = datetime.datetime.now()\n",
    "current_date_time"
   ]
  },
  {
   "cell_type": "code",
   "execution_count": 20,
   "id": "0c9d615b",
   "metadata": {},
   "outputs": [
    {
     "name": "stdout",
     "output_type": "stream",
     "text": [
      "Please enter your date [mm/dd/yy]:02/22/2024\n",
      "2024-02-22\n"
     ]
    }
   ],
   "source": [
    "#strptime: this convert a date in string  format to datetime format\n",
    "date2 = input('Please enter your date [mm/dd/yy]:')\n",
    "cdate= datetime.datetime.strptime(date2,'%m/%d/%Y').date()\n",
    "print(cdate)"
   ]
  },
  {
   "cell_type": "code",
   "execution_count": 21,
   "id": "358aa410",
   "metadata": {},
   "outputs": [
    {
     "data": {
      "text/plain": [
       "datetime.timedelta(days=66)"
      ]
     },
     "execution_count": 21,
     "metadata": {},
     "output_type": "execute_result"
    }
   ],
   "source": [
    "# timedelta: it is the difference between two date and time\n",
    "currentdate - date1"
   ]
  },
  {
   "cell_type": "code",
   "execution_count": 22,
   "id": "84b6ad98",
   "metadata": {},
   "outputs": [
    {
     "data": {
      "text/plain": [
       "datetime.date(2024, 6, 18)"
      ]
     },
     "execution_count": 22,
     "metadata": {},
     "output_type": "execute_result"
    }
   ],
   "source": [
    "currentdate + datetime.timedelta(weeks = 20)"
   ]
  },
  {
   "cell_type": "code",
   "execution_count": null,
   "id": "dbf6b8f1",
   "metadata": {},
   "outputs": [],
   "source": [
    "# EXERCISE\n",
    "# Early code is building a system for student you are instructed by the leader to write a code\n",
    "# that allows students to check there exam date in weeks and days from the current date"
   ]
  },
  {
   "cell_type": "code",
   "execution_count": null,
   "id": "79ee2070",
   "metadata": {},
   "outputs": [],
   "source": [
    "weeks = diff.days// 7\n",
    "days = diff.days% 7"
   ]
  }
 ],
 "metadata": {
  "kernelspec": {
   "display_name": "Python 3 (ipykernel)",
   "language": "python",
   "name": "python3"
  },
  "language_info": {
   "codemirror_mode": {
    "name": "ipython",
    "version": 3
   },
   "file_extension": ".py",
   "mimetype": "text/x-python",
   "name": "python",
   "nbconvert_exporter": "python",
   "pygments_lexer": "ipython3",
   "version": "3.11.5"
  }
 },
 "nbformat": 4,
 "nbformat_minor": 5
}
