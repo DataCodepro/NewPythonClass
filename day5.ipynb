{
 "cells": [
  {
   "cell_type": "code",
   "execution_count": null,
   "metadata": {},
   "outputs": [],
   "source": [
    "## WRITE A PROGRAM TO CHECK IF AN ITEM IS IN STOCK AND CALCULATE THE TOTAL COST OF ITEMS IN THE SHOPPING CART\n",
    "## WRITE A SIMPLE AUTHENTICATION SYSTEM THAT CHECKS A USER'S CREDENTIALS TO ALLOW MAXIMUM ATTEMPT OF 3 TIMES LOGIN"
   ]
  },
  {
   "cell_type": "code",
   "execution_count": 1,
   "metadata": {},
   "outputs": [
    {
     "name": "stdout",
     "output_type": "stream",
     "text": [
      "ppp\n",
      "yyy\n",
      "ttt\n",
      "hhh\n",
      "ooo\n",
      "nnn\n"
     ]
    }
   ],
   "source": [
    "word  = 'python'\n",
    "for char in word:\n",
    "    print(char *3)"
   ]
  },
  {
   "cell_type": "code",
   "execution_count": 5,
   "metadata": {},
   "outputs": [
    {
     "name": "stdout",
     "output_type": "stream",
     "text": [
      "ppp/yyy/ttt/hhh/ooo/nnn/"
     ]
    }
   ],
   "source": [
    "word  = 'python'\n",
    "for char in word:\n",
    "    print(char *3,end='/')"
   ]
  },
  {
   "cell_type": "code",
   "execution_count": 6,
   "metadata": {},
   "outputs": [
    {
     "name": "stdout",
     "output_type": "stream",
     "text": [
      "hey James, this is a reminder of our meeting on friday, 12pm\n",
      "hey Faith, this is a reminder of our meeting on friday, 12pm\n",
      "hey Hope, this is a reminder of our meeting on friday, 12pm\n",
      "hey Mary, this is a reminder of our meeting on friday, 12pm\n",
      "hey Samuel, this is a reminder of our meeting on friday, 12pm\n"
     ]
    }
   ],
   "source": [
    "# have list of five friends\n",
    "# hey {name}, this is a reminder of our meeting on friday, 12pm\n",
    "friends = ['James','Faith','Hope','Mary','Samuel']\n",
    "for name in friends:\n",
    "    print(f'hey {name}, this is a reminder of our meeting on friday, 12pm')"
   ]
  },
  {
   "cell_type": "markdown",
   "metadata": {},
   "source": [
    "## WRITE A PROGRAM TO CHECK IF AN ITEM IS IN STOCK AND CALCULATE THE TOTAL COST OF ITEMS IN THE SHOPPING CART"
   ]
  },
  {
   "cell_type": "markdown",
   "metadata": {},
   "source": []
  },
  {
   "cell_type": "code",
   "execution_count": 7,
   "metadata": {},
   "outputs": [
    {
     "name": "stdout",
     "output_type": "stream",
     "text": [
      "The total cost of items in the cart is  N51000.0\n"
     ]
    }
   ],
   "source": [
    "products = {\n",
    "    'item1':{'Name':'Big Burger','Price':3000.00,'Stock':30},\n",
    "    'item2':{'Name':'Small Burger','Price':1500.00,'Stock':60},\n",
    "    'item3':{'Name':'Chicken Pie','Price':900.00,'Stock':100},\n",
    "}\n",
    "cart = []\n",
    "totalcost = 0\n",
    "cart.append(('item1',5))\n",
    "cart.append(('item2',15))\n",
    "cart.append(('item3',15))\n",
    "for item in cart:\n",
    "    id,quantity = item\n",
    "    if id in products and products[id]['Stock'] >= quantity:\n",
    "        totalcost += products[id]['Price'] *quantity\n",
    "        #totalcost = totalcost + (products[id]['Price'] *quantity) also same as the previous line\n",
    "    else:\n",
    "        print('Product out of stock')\n",
    "if totalcost > 0:\n",
    "    print(f'The total cost of items in the cart is  N{totalcost}')\n",
    "else:\n",
    "    print('No item in the cart')"
   ]
  },
  {
   "cell_type": "code",
   "execution_count": 8,
   "metadata": {},
   "outputs": [
    {
     "name": "stdout",
     "output_type": "stream",
     "text": [
      "The SQRT of 55 is 7.416198487095663\n",
      "The SQRT of 85 is 9.219544457292887\n",
      "The SQRT of 100 is 10.0\n",
      "The SQRT of 89 is 9.433981132056603\n"
     ]
    }
   ],
   "source": [
    "usernumber = int(input('Enter A Number:'))\n",
    "import math\n",
    "counter = 0\n",
    "while usernumber != 0:\n",
    "    print(f'The SQRT of {usernumber} is {math.sqrt(usernumber)}')\n",
    "    counter +=1\n",
    "    usernumber = int(input('Enter A Number:'))"
   ]
  },
  {
   "cell_type": "code",
   "execution_count": 10,
   "metadata": {},
   "outputs": [
    {
     "name": "stdout",
     "output_type": "stream",
     "text": [
      "Access Granted...............\n"
     ]
    }
   ],
   "source": [
    "## WRITE A SIMPLE AUTHENTICATION SYSTEM THAT CHECKS A USER'S CREDENTIALS TO ALLOW MAXIMUM ATTEMPT OF 3 TIMES LOGIN\n",
    "max_amount = 3\n",
    "login_attempt = 0\n",
    "correctusername ='Datacodepro'\n",
    "correctpassword = 'seyilaw123456'\n",
    "while login_attempt < max_amount:\n",
    "    username = input('Enter your Username')\n",
    "    password = input('Enter your password:')\n",
    "    if username == correctusername and password == correctpassword:\n",
    "        print('Access Granted...............')\n",
    "        break\n",
    "    else:\n",
    "        print('Login failed')\n",
    "        login_attempt +=1\n",
    "if login_attempt == max_amount:\n",
    "    print('Maximum Login Reached. Account Locked.....')"
   ]
  },
  {
   "cell_type": "code",
   "execution_count": 13,
   "metadata": {},
   "outputs": [
    {
     "name": "stdout",
     "output_type": "stream",
     "text": [
      "89 x 1 = 89\n",
      "89 x 2 = 178\n",
      "89 x 3 = 267\n",
      "89 x 4 = 356\n",
      "89 x 5 = 445\n",
      "89 x 6 = 534\n",
      "89 x 7 = 623\n",
      "89 x 8 = 712\n",
      "89 x 9 = 801\n",
      "89 x 10 = 890\n",
      "89 x 11 = 979\n",
      "89 x 12 = 1068\n"
     ]
    }
   ],
   "source": [
    "# use a while loop to generate a time table from 1 to 12 with a user's number\n",
    "usernumber = int(input('Enter your number:'))\n",
    "counter = 1\n",
    "while counter <= 12:\n",
    "    print(f'{usernumber} x {counter} = {usernumber *counter}')\n",
    "    counter +=1"
   ]
  },
  {
   "cell_type": "code",
   "execution_count": null,
   "metadata": {},
   "outputs": [],
   "source": [
    "import pandas as pd\n",
    "from sklearn.naive_bayes import GaussianNB  # Assuming numerical features\n",
    "from sklearn.preprocessing import OneHotEncoder  # For categorical features\n",
    "\n",
    "# Load the dataset (replace with your actual data loading)\n",
    "data = pd.read_csv(\"football_weather_data.csv\")\n",
    "\n",
    "# Separate features and target\n",
    "X = data[[\"Outlook\", \"Temperature\", \"Humidity\", \"Windy\"]]\n",
    "y = data[\"Class\"]\n",
    "\n",
    "# Handle categorical features (if needed)\n",
    "encoder = OneHotEncoder(handle_unknown='ignore')\n",
    "X = encoder.fit_transform(X).toarray()\n",
    "\n",
    "# Create and train the Naive Bayes model\n",
    "model = GaussianNB()  # Adjust model type if features are not numerical\n",
    "model.fit(X, y)\n",
    "\n",
    "# Make a prediction for new weather conditions\n",
    "new_weather = [['Overcast', 75, 80, False]]  # Replace with actual conditions\n",
    "new_weather_encoded = encoder.transform(new_weather).toarray()  # Encode if categorical\n",
    "prediction = model.predict(new_weather_encoded)\n",
    "print(prediction)  # Output: ['Play'] (example)\n"
   ]
  }
 ],
 "metadata": {
  "kernelspec": {
   "display_name": "Python 3",
   "language": "python",
   "name": "python3"
  },
  "language_info": {
   "codemirror_mode": {
    "name": "ipython",
    "version": 3
   },
   "file_extension": ".py",
   "mimetype": "text/x-python",
   "name": "python",
   "nbconvert_exporter": "python",
   "pygments_lexer": "ipython3",
   "version": "3.11.1"
  }
 },
 "nbformat": 4,
 "nbformat_minor": 2
}
