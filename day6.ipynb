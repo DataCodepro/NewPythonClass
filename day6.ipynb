{
 "cells": [
  {
   "cell_type": "markdown",
   "metadata": {},
   "source": [
    "# write Python function that allows a user to continuously order food items until they choose to stop. It will then calculate the total price and print a receipt:"
   ]
  },
  {
   "cell_type": "code",
   "execution_count": 2,
   "metadata": {},
   "outputs": [],
   "source": [
    "def greet():\n",
    "    print('Welcome to python class')"
   ]
  },
  {
   "cell_type": "code",
   "execution_count": 3,
   "metadata": {},
   "outputs": [
    {
     "name": "stdout",
     "output_type": "stream",
     "text": [
      "Welcome to python class\n",
      "None\n"
     ]
    }
   ],
   "source": [
    "print(greet())"
   ]
  },
  {
   "cell_type": "code",
   "execution_count": 4,
   "metadata": {},
   "outputs": [
    {
     "name": "stdout",
     "output_type": "stream",
     "text": [
      "Welcome to python class\n"
     ]
    }
   ],
   "source": [
    "greet()"
   ]
  },
  {
   "cell_type": "code",
   "execution_count": 6,
   "metadata": {},
   "outputs": [
    {
     "name": "stdout",
     "output_type": "stream",
     "text": [
      "Opss sorry you are not eligible to vote\n"
     ]
    }
   ],
   "source": [
    "def votecheck(name,gender,age):\n",
    "    if age >=18:\n",
    "        print('Congratulations you are eligible to vote')\n",
    "    else:\n",
    "        print('Opss sorry you are not eligible to vote')\n",
    "votecheck('Sam','Male',15)"
   ]
  },
  {
   "cell_type": "code",
   "execution_count": 7,
   "metadata": {},
   "outputs": [
    {
     "name": "stdout",
     "output_type": "stream",
     "text": [
      "Congratulations you are eligible to vote\n"
     ]
    }
   ],
   "source": [
    "votecheck('Faith','Female',25)"
   ]
  },
  {
   "cell_type": "code",
   "execution_count": null,
   "metadata": {},
   "outputs": [],
   "source": [
    "# write a function to check if a user is eligible for rubgy sport or football sport based on the weight\n",
    "# 175 above weight for rugby and any weight below football sport"
   ]
  },
  {
   "cell_type": "code",
   "execution_count": 8,
   "metadata": {},
   "outputs": [
    {
     "name": "stdout",
     "output_type": "stream",
     "text": [
      "Congratulations you are eligible to vote\n"
     ]
    }
   ],
   "source": [
    "def votecheck(name,gender,age = 18):\n",
    "    if age >=18:\n",
    "        print('Congratulations you are eligible to vote')\n",
    "    else:\n",
    "        print('Opss sorry you are not eligible to vote')\n",
    "votecheck('Sam','Male')"
   ]
  },
  {
   "cell_type": "code",
   "execution_count": 10,
   "metadata": {},
   "outputs": [
    {
     "name": "stdout",
     "output_type": "stream",
     "text": [
      "Opss sorry you are not eligible to vote\n"
     ]
    }
   ],
   "source": [
    "votecheck('Sam','Male',11)"
   ]
  },
  {
   "cell_type": "code",
   "execution_count": 11,
   "metadata": {},
   "outputs": [
    {
     "name": "stdout",
     "output_type": "stream",
     "text": [
      "PLAYER ONE DICE OUTCOME: 5\n",
      "PLAYER TWO DICE OUTCOME: 6\n",
      "PLAYER TWO WINS......\n",
      "PLAYER ONE DICE OUTCOME: 7\n",
      "PLAYER TWO DICE OUTCOME: 7\n",
      "DRAW......\n",
      "PLAYER ONE DICE OUTCOME: 6\n",
      "PLAYER TWO DICE OUTCOME: 4\n",
      "PLAYER ONE WINS......\n",
      "PLAYER ONE DICE OUTCOME: 5\n",
      "PLAYER TWO DICE OUTCOME: 8\n",
      "PLAYER TWO WINS......\n",
      "PLAYER ONE DICE OUTCOME: 9\n",
      "PLAYER TWO DICE OUTCOME: 7\n",
      "PLAYER ONE WINS......\n",
      "PLAYER ONE DICE OUTCOME: 7\n",
      "PLAYER TWO DICE OUTCOME: 11\n",
      "PLAYER TWO WINS......\n",
      "PLAYER ONE DICE OUTCOME: 3\n",
      "PLAYER TWO DICE OUTCOME: 7\n",
      "PLAYER TWO WINS......\n",
      "PLAYER ONE DICE OUTCOME: 5\n",
      "PLAYER TWO DICE OUTCOME: 7\n",
      "PLAYER TWO WINS......\n",
      "PLAYER ONE DICE OUTCOME: 7\n",
      "PLAYER TWO DICE OUTCOME: 12\n",
      "PLAYER TWO WINS......\n",
      "PLAYER ONE DICE OUTCOME: 12\n",
      "PLAYER TWO DICE OUTCOME: 7\n",
      "PLAYER ONE WINS......\n",
      "PLAYER TWO IS THE OVERALL WINNER BY 31 POINT\n"
     ]
    }
   ],
   "source": [
    "def rolldicegame():\n",
    "    import random\n",
    "    playeronescore = 0\n",
    "    playertwoscore = 0\n",
    "    counter = 1\n",
    "    while counter <= 10:\n",
    "        dice1 = random.randint(1,6) + random.randint(1,6)\n",
    "        dice2 = random.randint(1,6) + random.randint(1,6)\n",
    "        if dice1 > dice2:\n",
    "            print('PLAYER ONE DICE OUTCOME:', dice1)\n",
    "            print('PLAYER TWO DICE OUTCOME:', dice2)\n",
    "            print('PLAYER ONE WINS......')\n",
    "            playeronescore +=5\n",
    "\n",
    "        elif dice2 > dice1:\n",
    "            print('PLAYER ONE DICE OUTCOME:', dice1)\n",
    "            print('PLAYER TWO DICE OUTCOME:', dice2)\n",
    "            print('PLAYER TWO WINS......')\n",
    "            playertwoscore +=5\n",
    "        else:\n",
    "            print('PLAYER ONE DICE OUTCOME:', dice1)\n",
    "            print('PLAYER TWO DICE OUTCOME:', dice2)\n",
    "            print('DRAW......')\n",
    "            playertwoscore +=1\n",
    "            playeronescore +=1\n",
    "        counter +=1\n",
    "    if playeronescore > playertwoscore:\n",
    "        print(f'PLAYER ONE IS THE OVERALL WINNER BY {playeronescore} POINT')\n",
    "    elif playeronescore < playertwoscore:\n",
    "        print(f'PLAYER TWO IS THE OVERALL WINNER BY {playertwoscore} POINT')\n",
    "    else:\n",
    "        print('NO WINNER, IT IS A DRAW')\n",
    "rolldicegame()"
   ]
  },
  {
   "cell_type": "code",
   "execution_count": 14,
   "metadata": {},
   "outputs": [
    {
     "name": "stdout",
     "output_type": "stream",
     "text": [
      "\n",
      "MENU\n",
      "Pizza: $15.00\n",
      "Sandwich: $7.50\n",
      "Salad: $4.99\n",
      "Fries: $3.99\n",
      "Burger: $8.00\n",
      "\n",
      "MENU\n",
      "Pizza: $15.00\n",
      "Sandwich: $7.50\n",
      "Salad: $4.99\n",
      "Fries: $3.99\n",
      "Burger: $8.00\n",
      "\n",
      "MENU\n",
      "Pizza: $15.00\n",
      "Sandwich: $7.50\n",
      "Salad: $4.99\n",
      "Fries: $3.99\n",
      "Burger: $8.00\n",
      "\n",
      "RECEIPT\n",
      "Pizza:5 x $8.00 = $75.0\n",
      "Burger:3 x $8.00 = $24.0\n",
      "Total Price is  99.0\n"
     ]
    }
   ],
   "source": [
    "def order_food():\n",
    "    menu = {\n",
    "        \"pizza\": 15.0,\n",
    "        \"sandwich\": 7.5,\n",
    "        \"salad\": 4.99,\n",
    "        \"fries\": 3.99,\n",
    "        \"burger\":8.00\n",
    "    }\n",
    "    order = {}\n",
    "    totalprice = 0.0\n",
    "    while True:\n",
    "        print('\\nMENU')\n",
    "        for item,price in menu.items():\n",
    "            print(f'{item.capitalize()}: ${price:.2f}')\n",
    "        user_choice = input('Enter the food item you want to order (or done to finish)').lower()\n",
    "\n",
    "        if user_choice == 'done':\n",
    "            break\n",
    "        if user_choice in menu:\n",
    "            quantity = int(input(f'HOW MANY {user_choice}s DO YOU WANT TO ORDER?'))\n",
    "            order[user_choice] = quantity\n",
    "            totalprice += menu[user_choice] * quantity\n",
    "        else:\n",
    "            print('Invalid choice, choose from the menu.')\n",
    "    print('\\nRECEIPT')\n",
    "    for item, quantity  in order.items():\n",
    "        print(f'{item.capitalize()}:{quantity} x ${price:.2f} = ${menu[item] * quantity}')\n",
    "    print('Total Price is ', totalprice)\n",
    "order_food()"
   ]
  },
  {
   "cell_type": "code",
   "execution_count": null,
   "metadata": {},
   "outputs": [],
   "source": []
  }
 ],
 "metadata": {
  "kernelspec": {
   "display_name": "Python 3",
   "language": "python",
   "name": "python3"
  },
  "language_info": {
   "codemirror_mode": {
    "name": "ipython",
    "version": 3
   },
   "file_extension": ".py",
   "mimetype": "text/x-python",
   "name": "python",
   "nbconvert_exporter": "python",
   "pygments_lexer": "ipython3",
   "version": "3.11.1"
  }
 },
 "nbformat": 4,
 "nbformat_minor": 2
}
