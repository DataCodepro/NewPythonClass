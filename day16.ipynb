{
 "cells": [
  {
   "cell_type": "markdown",
   "id": "01b3cf63",
   "metadata": {},
   "source": [
    "# \"As a newly employed developer/programmer, our first task is to develop a student management system capable of accepting, searching, displaying, updating, and archiving student records. With this goal in mind, how would you proceed to ensure the system's functionality and security?\""
   ]
  },
  {
   "cell_type": "code",
   "execution_count": 1,
   "id": "fb211268",
   "metadata": {},
   "outputs": [],
   "source": [
    "import pymysql"
   ]
  },
  {
   "cell_type": "code",
   "execution_count": 3,
   "id": "70aba1b9",
   "metadata": {},
   "outputs": [],
   "source": [
    "mydb =pymysql.connect(\n",
    "    host = 'localhost',\n",
    "    port = 3360,\n",
    "    user ='root',\n",
    "    password = 'seyilaw1'\n",
    ")\n",
    "mycursor = mydb.cursor()"
   ]
  },
  {
   "cell_type": "code",
   "execution_count": 4,
   "id": "370cf865",
   "metadata": {},
   "outputs": [
    {
     "name": "stdout",
     "output_type": "stream",
     "text": [
      "('earlycodeacademy',)\n",
      "('earlycodeacademy2',)\n",
      "('employee_system',)\n",
      "('information_schema',)\n",
      "('j_weac_system',)\n",
      "('jmstore',)\n",
      "('mysql',)\n",
      "('performance_schema',)\n",
      "('sakila',)\n",
      "('sys',)\n",
      "('whodata',)\n",
      "('world',)\n"
     ]
    }
   ],
   "source": [
    "mycursor.execute('show databases')\n",
    "for x in mycursor:\n",
    "    print(x)"
   ]
  },
  {
   "cell_type": "code",
   "execution_count": 5,
   "id": "dfd5bc8a",
   "metadata": {},
   "outputs": [
    {
     "name": "stdout",
     "output_type": "stream",
     "text": [
      "('earlycodeacademy',)\n",
      "('earlycodeacademy2',)\n",
      "('employee_system',)\n",
      "('information_schema',)\n",
      "('j_weac_system',)\n",
      "('jmstore',)\n",
      "('mysql',)\n",
      "('performance_schema',)\n",
      "('primeacademy',)\n",
      "('sakila',)\n",
      "('sys',)\n",
      "('whodata',)\n",
      "('world',)\n"
     ]
    }
   ],
   "source": [
    "mycursor.execute('create database primeacademy')\n",
    "mycursor.execute('show databases')\n",
    "for x in mycursor:\n",
    "    print(x)"
   ]
  },
  {
   "cell_type": "code",
   "execution_count": 2,
   "id": "454fe595",
   "metadata": {},
   "outputs": [],
   "source": [
    "mydb =pymysql.connect(\n",
    "    host = 'localhost',\n",
    "    port = 3360,\n",
    "    user ='root',\n",
    "    password = 'seyilaw1',\n",
    "    database = 'primeacademy'\n",
    ")\n",
    "mycursor = mydb.cursor()"
   ]
  },
  {
   "cell_type": "code",
   "execution_count": 10,
   "id": "3ab703d4",
   "metadata": {},
   "outputs": [
    {
     "name": "stdout",
     "output_type": "stream",
     "text": [
      "('id', 'int', 'NO', 'PRI', None, '')\n",
      "('name', 'varchar(255)', 'NO', '', None, '')\n",
      "('age', 'int', 'NO', '', None, '')\n",
      "('gender', 'varchar(50)', 'NO', '', None, '')\n",
      "('dob', 'date', 'NO', '', None, '')\n",
      "('address', 'text', 'NO', '', None, '')\n",
      "('guardian', 'varchar(255)', 'NO', '', None, '')\n",
      "('guardian_contact', 'varchar(50)', 'NO', '', None, '')\n"
     ]
    }
   ],
   "source": [
    "mycursor.execute('create table students(id int primary key not null, name varchar(255) not null, age int not null, gender varchar(50) not null, dob date not null, address text not null,guardian varchar(255) not null, guardian_contact varchar(50) not null)')\n",
    "mycursor.execute('show columns from students')\n",
    "for x in mycursor:\n",
    "    print(x)"
   ]
  },
  {
   "cell_type": "code",
   "execution_count": 13,
   "id": "796fb4f9",
   "metadata": {},
   "outputs": [],
   "source": [
    "def accept_record():\n",
    "    id = int(input('Enter student ID:'))\n",
    "    name = input(\"Enter student name: \")\n",
    "    age = int(input(\"Enter student age: \"))\n",
    "    gender = input(\"Enter student gender (Male/Female/Other): \")\n",
    "    dob = input(\"Enter student date of birth (YYYY-MM-DD): \")\n",
    "    address = input(\"Enter student address: \")\n",
    "    guardian = input(\"Enter guardian name: \")\n",
    "    guardian_contact = input(\"Enter guardian contact number: \")\n",
    "    \n",
    "    query = 'insert into students(id,name,age,gender,dob,address,guardian,guardian_contact) values(%s,%s,%s,%s,%s,%s,%s,%s)'\n",
    "    mycursor.execute(query,(id,name,age,gender,dob,address,guardian,guardian_contact))\n",
    "    mydb.commit()\n",
    "    print('Record inserted successfully...')\n",
    "def search_record():\n",
    "        id = int(input('Enter search ID:'))\n",
    "        query = 'select * from students where id =\"%s\"'\n",
    "        mycursor.execute(query,(id,))\n",
    "        result = mycursor.fetchall()\n",
    "        if len(result) == 0:\n",
    "            print('Rcord not found')\n",
    "        else:\n",
    "            for x in result:\n",
    "                print(x)\n",
    "def display_records():\n",
    "    mycursor.execute('select * from students')\n",
    "    for x in mycursor:\n",
    "        print(x)\n",
    "        \n",
    "def update_record():\n",
    "    id = int(input('Enter  ID To Be Updated:'))\n",
    "    column = input('Enter the column to be updated:')\n",
    "    newval = input('Enter the new value:')\n",
    "    query=f'update students set {column} = %s where id =%s'\n",
    "    mycursor.execute(query,(newval,id))\n",
    "    mydb.commit()\n",
    "    print('record update successfully...')\n",
    "    \n",
    "    \n",
    "def archive_record():\n",
    "    id = int(input('Enter  ID To Be Deleted:'))\n",
    "    query = 'delete from students where id =%s'\n",
    "    mycursor.execute(query,(id,))\n",
    "    mydb.commit()\n",
    "    print('Record Acchived Successfully...')\n",
    "    \n",
    "def main():\n",
    "    print('Welcome Admin')\n",
    "    print('operation list [Accept, display, search, update archive, logout]')\n",
    "    operation = True\n",
    "    while operation:\n",
    "        option  = input('Select Operation:')\n",
    "        if option == 'Accept'.lower():\n",
    "            accept_record()\n",
    "        elif option == 'Display'.lower():\n",
    "            display_records()\n",
    "        elif option == 'Search'.lower():\n",
    "            search_record()\n",
    "        elif option == 'Update'.lower():\n",
    "            update_record()\n",
    "        elif option == 'Archive'.lower():\n",
    "            archive_record()\n",
    "        elif option == 'Logout'.lower():\n",
    "            operation = False\n",
    "            print('OPERATION TERMINATED............')\n",
    "            break"
   ]
  },
  {
   "cell_type": "code",
   "execution_count": 14,
   "id": "ada67729",
   "metadata": {},
   "outputs": [
    {
     "name": "stdout",
     "output_type": "stream",
     "text": [
      "Welcome Admin\n",
      "operation list [Accept, display, search, update archive, logout]\n",
      "Select Operation:archive\n",
      "Enter  ID To Be Deleted:1\n",
      "Record Acchived Successfully...\n",
      "Select Operation:display\n",
      "Select Operation:logout\n",
      "OPERATION TERMINATED............\n"
     ]
    }
   ],
   "source": [
    "main()"
   ]
  },
  {
   "cell_type": "code",
   "execution_count": null,
   "id": "358eb09c",
   "metadata": {},
   "outputs": [],
   "source": []
  }
 ],
 "metadata": {
  "kernelspec": {
   "display_name": "Python 3 (ipykernel)",
   "language": "python",
   "name": "python3"
  },
  "language_info": {
   "codemirror_mode": {
    "name": "ipython",
    "version": 3
   },
   "file_extension": ".py",
   "mimetype": "text/x-python",
   "name": "python",
   "nbconvert_exporter": "python",
   "pygments_lexer": "ipython3",
   "version": "3.11.5"
  }
 },
 "nbformat": 4,
 "nbformat_minor": 5
}
